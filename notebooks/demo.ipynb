{
 "cells": [
  {
   "cell_type": "code",
   "execution_count": 1,
   "metadata": {},
   "outputs": [
    {
     "name": "stdout",
     "output_type": "stream",
     "text": [
      "Project root added to PYTHONPATH: True\n"
     ]
    }
   ],
   "source": [
    "# Add project root to PYTHONPATH\n",
    "import sys\n",
    "import os\n",
    "\n",
    "# Get the project root directory\n",
    "project_root = os.path.abspath(os.path.join(os.getcwd(), '..'))\n",
    "\n",
    "# Add the project root directory to the PYTHONPATH\n",
    "if project_root not in sys.path:\n",
    "    sys.path.append(project_root)\n",
    "\n",
    "# Verify if the project root directory is in PYTHONPATH\n",
    "print(\"Project root added to PYTHONPATH:\", project_root in sys.path)\n",
    "\n",
    "# Import necessary libraries and classes\n",
    "from open_science_agent.api.semantic_scholar_client import SemanticScholarClient\n",
    "from open_science_agent.api.notion_client import NotionClient\n",
    "# from open_science_agent.data_processing.paper_analyzer import PaperAnalyzer\n",
    "# from open_science_agent.data_processing.paper_organizer import PaperOrganizer\n",
    "\n",
    "# Initialize the SemanticScholarClient\n",
    "semantic_scholar_client = SemanticScholarClient()\n",
    "\n",
    "# Define the search query\n",
    "query = \"machine learning in atmospheric science\"\n",
    "\n",
    "# Perform the search by relevance\n",
    "results = semantic_scholar_client.search_papers_by_relevance(query)\n"
   ]
  },
  {
   "cell_type": "markdown",
   "metadata": {},
   "source": [
    "### 交互式文献搜索\n",
    "下面的代码实现了一个交互式的程序，用户可以通过输入查询关键字，动态获取并显示相关的学术论文结果。"
   ]
  },
  {
   "cell_type": "code",
   "execution_count": 5,
   "metadata": {},
   "outputs": [
    {
     "data": {
      "application/vnd.jupyter.widget-view+json": {
       "model_id": "d168c57647de48fb814e1fed1b60317d",
       "version_major": 2,
       "version_minor": 0
      },
      "text/plain": [
       "Text(value='machine learning in atmospheric science', description='Query:', placeholder='Enter search query')"
      ]
     },
     "metadata": {},
     "output_type": "display_data"
    },
    {
     "data": {
      "application/vnd.jupyter.widget-view+json": {
       "model_id": "c7bb334fe04a48f8b89d61d6241ec181",
       "version_major": 2,
       "version_minor": 0
      },
      "text/plain": [
       "Button(description='Search', icon='search', style=ButtonStyle(), tooltip='Search for papers')"
      ]
     },
     "metadata": {},
     "output_type": "display_data"
    },
    {
     "data": {
      "application/vnd.jupyter.widget-view+json": {
       "model_id": "6ec9aa31edc248a9a1e21de8cba5d358",
       "version_major": 2,
       "version_minor": 0
      },
      "text/plain": [
       "Output()"
      ]
     },
     "metadata": {},
     "output_type": "display_data"
    }
   ],
   "source": [
    "import os\n",
    "import ipywidgets as widgets\n",
    "from IPython.display import display, clear_output\n",
    "import pandas as pd\n",
    "\n",
    "# 导入SemanticScholarClient（假设它在open_science_agent包中）\n",
    "from open_science_agent.api.semantic_scholar_client import SemanticScholarClient\n",
    "\n",
    "semantic_scholar_client = SemanticScholarClient()\n",
    "\n",
    "# 定义查询输入框和按钮\n",
    "query_input = widgets.Text(\n",
    "    value='machine learning in atmospheric science',\n",
    "    placeholder='Enter search query',\n",
    "    description='Query:',\n",
    "    disabled=False\n",
    ")\n",
    "\n",
    "search_button = widgets.Button(\n",
    "    description='Search',\n",
    "    disabled=False,\n",
    "    button_style='', # 'success', 'info', 'warning', 'danger' or ''\n",
    "    tooltip='Search for papers',\n",
    "    icon='search'\n",
    ")\n",
    "\n",
    "output = widgets.Output()\n",
    "\n",
    "# 定义搜索函数\n",
    "def search_papers(b):\n",
    "    query = query_input.value\n",
    "    results = semantic_scholar_client.search_papers_by_relevance(query)\n",
    "    \n",
    "    # 提取结果数据\n",
    "    data = results['data']\n",
    "    papers = []\n",
    "    for paper in data:\n",
    "        papers.append({\n",
    "            'Title': paper['title'],\n",
    "            'Authors': ', '.join([author['name'] for author in paper['authors']]),\n",
    "            'Year': paper['year'],\n",
    "            'Venue': paper['venue'],\n",
    "            'Abstract': paper.get('abstract', 'No abstract available'),\n",
    "            'Citations': paper['citationCount'],\n",
    "            'URL': paper['url']\n",
    "        })\n",
    "    \n",
    "    # 转换为DataFrame\n",
    "    df = pd.DataFrame(papers)\n",
    "    \n",
    "    # 在输出框中显示结果\n",
    "    with output:\n",
    "        clear_output(wait=True)\n",
    "        display(df)\n",
    "\n",
    "# 绑定搜索按钮点击事件\n",
    "search_button.on_click(search_papers)\n",
    "\n",
    "# 显示查询输入框和按钮\n",
    "display(query_input, search_button, output)"
   ]
  }
 ],
 "metadata": {
  "kernelspec": {
   "display_name": ".openscholar.venv",
   "language": "python",
   "name": "python3"
  },
  "language_info": {
   "codemirror_mode": {
    "name": "ipython",
    "version": 3
   },
   "file_extension": ".py",
   "mimetype": "text/x-python",
   "name": "python",
   "nbconvert_exporter": "python",
   "pygments_lexer": "ipython3",
   "version": "3.12.4"
  }
 },
 "nbformat": 4,
 "nbformat_minor": 2
}
