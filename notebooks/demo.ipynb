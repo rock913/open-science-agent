{
 "cells": [
  {
   "cell_type": "code",
   "execution_count": null,
   "metadata": {},
   "outputs": [],
   "source": [
    "# Add project root to PYTHONPATH\n",
    "import sys\n",
    "import os\n",
    "\n",
    "# Get the project root directory\n",
    "project_root = os.path.abspath(os.path.join(os.getcwd(), '..'))\n",
    "\n",
    "# Add the project root directory to the PYTHONPATH\n",
    "if project_root not in sys.path:\n",
    "    sys.path.append(project_root)\n",
    "\n",
    "# Verify if the project root directory is in PYTHONPATH\n",
    "print(\"Project root added to PYTHONPATH:\", project_root in sys.path)\n",
    "\n",
    "# Import necessary libraries and classes\n",
    "from open_science_agent.api.semantic_scholar_client import SemanticScholarClient\n",
    "from open_science_agent.api.notion_client import NotionClient\n",
    "# from open_science_agent.data_processing.paper_analyzer import PaperAnalyzer\n",
    "# from open_science_agent.data_processing.paper_organizer import PaperOrganizer\n",
    "\n",
    "# Initialize the SemanticScholarClient\n",
    "semantic_scholar_client = SemanticScholarClient()\n",
    "\n",
    "# Define the search query\n",
    "query = \"machine learning in atmospheric science\"\n",
    "\n",
    "# Perform the search by relevance\n",
    "results = semantic_scholar_client.search_papers_by_relevance(query)\n"
   ]
  }
 ],
 "metadata": {
  "kernelspec": {
   "display_name": ".openscholar.venv",
   "language": "python",
   "name": "python3"
  },
  "language_info": {
   "name": "python",
   "version": "3.12.4"
  }
 },
 "nbformat": 4,
 "nbformat_minor": 2
}
