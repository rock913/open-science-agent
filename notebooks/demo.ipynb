{
 "cells": [
  {
   "cell_type": "code",
   "execution_count": 1,
   "metadata": {},
   "outputs": [
    {
     "name": "stdout",
     "output_type": "stream",
     "text": [
      "Project root added to PYTHONPATH: True\n",
      "HTTP error occurred: 429 Client Error:  for url: https://api.semanticscholar.org/graph/v1/paper/search?query=CombFold%3A+predicting+structures+of+large+protein+assemblies&offset=0&limit=20&fields=corpusId%2Curl%2Ctitle%2Cvenue%2CpublicationVenue%2Cyear%2Cauthors%2CexternalIds%2Cabstract%2CreferenceCount%2CcitationCount%2CinfluentialCitationCount%2CisOpenAccess%2CopenAccessPdf%2CfieldsOfStudy%2Cs2FieldsOfStudy%2CpublicationTypes%2CpublicationDate%2Cjournal%2CcitationStyles%2Ctldr&minCitationCount=0&year=2020-\n",
      "Response content: b'{\"message\": \"Too Many Requests. Please wait and try again or apply for a key for higher rate limits. https://www.semanticscholar.org/product/api#api-key-form\", \"code\": \"429\"}'\n",
      "Attempt 1 failed: 429 Client Error:  for url: https://api.semanticscholar.org/graph/v1/paper/search?query=CombFold%3A+predicting+structures+of+large+protein+assemblies&offset=0&limit=20&fields=corpusId%2Curl%2Ctitle%2Cvenue%2CpublicationVenue%2Cyear%2Cauthors%2CexternalIds%2Cabstract%2CreferenceCount%2CcitationCount%2CinfluentialCitationCount%2CisOpenAccess%2CopenAccessPdf%2CfieldsOfStudy%2Cs2FieldsOfStudy%2CpublicationTypes%2CpublicationDate%2Cjournal%2CcitationStyles%2Ctldr&minCitationCount=0&year=2020-\n",
      "Retrying in 5 seconds...\n",
      "already added: CombFold: predicting structures of large protein assemblies using a combinatorial assembly algorithm and AlphaFold2\n",
      "added: Single-sequence protein-RNA complex structure prediction by geometric attention-enabled pairing of biological language models\n",
      "added: Technical Report of HelixFold3 for Biomolecular Structure Prediction\n",
      "added: Unsupervised domain classification of AlphaFold2-predicted protein structures\n",
      "added: PANDA-3D: protein function prediction based on AlphaFold models\n",
      "added: Multiple Protein Structure Alignment at Scale with FoldMason\n",
      "added: Evaluation of AlphaFold 3’s Protein–Protein Complexes for Predicting Binding Free Energy Changes upon Mutation\n",
      "added: AlphaFold2 knows some protein folding principles\n",
      "added: Bridging the Gap between Sequence and Structure Classifications of Proteins with AlphaFold Models.\n",
      "added: CSSP-2.0: A refined consensus method for accurate protein secondary structure prediction\n",
      "added: Large protein databases reveal structural complementarity and functional locality\n",
      "added: In the AlphaFold era, when is experimental phasing of protein crystals still required?\n",
      "added: AlphaFold2 Predicts Alternative Conformation Populations in Green Fluorescent Protein Variants.\n",
      "added: TMHC-MSAT: Accurate Prediction of Inter-Helical Residue Contacts in Transmembrane Proteins Using MSA Transformer\n",
      "added: Using deep learning predictions reveals a large number of register errors in PDB deposits\n",
      "added: Generation of a high confidence set of domain–domain interface types to guide protein complex structure predictions by AlphaFold\n",
      "added: AlphaFold predictions of fold-switched conformations are driven by structure memorization\n",
      "added: Refinement of Docked Protein-Protein Complexes Using Repulsive Scaling Replica Exchange Simulations.\n",
      "added: Benchmarking Protein Language Models for Protein Crystallization\n",
      "added: An end-to-end framework for the prediction of protein structure and fitness from single sequence\n",
      "added: Multi-Modal Large Language Model Enables Protein Function Prediction\n",
      "added: PLMC: Language Model of Protein Sequences Enhances Protein Crystallization Prediction.\n",
      "added: Benchmarking Methods for PROTAC Ternary Complex Structure Prediction.\n",
      "added: DeepStruct: Integrating protein graph structure and sequence for PPI prediction\n",
      "added: STRPsearch: fast detection of structured tandem repeat proteins\n",
      "added: Clustering protein functional families at large scale with hierarchical approaches\n",
      "added: AI-Driven Deep Learning Techniques in Protein Structure Prediction\n",
      "added: Compact assessment of molecular surface complementarities enhances neural network-aided prediction of key binding residues\n",
      "added: Design of intrinsically disordered protein variants with diverse structural properties\n",
      "added: Computational Methods to Investigate Intrinsically Disordered Proteins and their Complexes\n",
      "added: PredIDR: Accurate prediction of protein intrinsic disorder regions using deep convolutional neural network\n",
      "added: FEDKEA: Enzyme function prediction with a large pretrained protein language model and distance-weighted k-nearest neighbor\n",
      "added: Adapting protein language models for structure-conditioned design\n",
      "added: Posetta: Language-Guided Protein Design\n",
      "added: SAAMBE-MEM: A Sequence-Based Method for Predicting Binding Free Energy Change upon Mutation in Membrane Protein-Protein Complexes.\n",
      "added: Advanced atom-level representations for protein flexibility prediction utilizing graph neural networks\n",
      "added: Assessment of scoring functions for computational models of protein-protein interfaces\n",
      "added: StrIDR: a database of intrinsically disordered regions of proteins with experimentally resolved structures\n",
      "added: OPUS-Design: Designing Protein Sequence from Backbone Structure with 3DCNN and Protein Language Model\n",
      "added: PairK: Pairwise k-mer alignment for quantifying protein motif conservation in disordered regions\n",
      "added: Massively parallel measurement of protein-protein interactions by sequencing using MP3-seq.\n",
      "added: HerpesFolds: A proteome-wide structural systems approach reveals insights into protein families and activities of all nine human herpesviruses\n",
      "added: A Curated Rotamer Library for Common Post-Translational Modifications of Proteins\n",
      "added: A dataset of alternately located segments in protein crystal structures\n",
      "added: Site-resolved energetic information from HX/MS experiments\n",
      "added: Gradations in protein dynamics captured by experimental NMR are not well represented by AlphaFold2 models and other computational metrics\n",
      "added: Sequence-specific targeting of intrinsically disordered protein regions\n",
      "added: Deep learning methods for protein function prediction.\n",
      "added: Augmenting Evolutionary Models with Structure-based Retrieval\n",
      "added: Accurate prediction of protein function using statistics-informed graph networks\n",
      "added: Unraveling the role of physicochemical differences in predicting protein-protein interactions.\n",
      "added: Dynamic PDB: A New Dataset and a SE(3) Model Extension by Integrating Dynamic Behaviors and Physical Properties in Protein Structures\n",
      "added: Predict metal-binding proteins and structures through integration of evolutionary-scale and physics-based modeling\n",
      "added: mdCATH: A Large-Scale MD Dataset for Data-Driven Computational Biophysics\n",
      "added: Predicting protein conformational motions using energetic frustration analysis and AlphaFold2.\n",
      "added: Non-standard proteins in the lenses of AlphaFold3 - case study of amyloids\n",
      "added: Predicting Conformational Ensembles of Intrinsically Disordered Proteins: From Molecular Dynamics to Machine Learning.\n",
      "added: GalaxyDock-DL: Protein-Ligand Docking by Global Optimization and Neural Network Energy.\n",
      "added: Results of the Protein Engineering Tournament: An Open Science Benchmark for Protein Modeling and Design\n",
      "added: Unifying Sequences, Structures, and Descriptions for Any-to-Any Protein Generation with the Large Multimodal Model HelixProtX\n",
      "added: Streamlining NMR Chemical Shift Predictions for Intrinsically Disordered Proteins: Design of Ensembles with Dimensionality Reduction and Clustering.\n",
      "added: rpcFold: residual parallel convolutional neural network to decipher RNA folding from RNA sequence\n",
      "added: MIPDS: a comprehensive database on the molecular interactions in protein dimer structures\n",
      "added: Severe deviation in protein fold prediction by advanced AI: a case study\n",
      "added: From Static to Dynamic Structures: Improving Binding Affinity Prediction with Graph-Based Deep Learning.\n",
      "added: Protein Classes Predicted by Molecular Surface Chemical Features: Machine Learning-Assisted Classification of Cytosol and Secreted Proteins.\n",
      "added: Predicting Small Molecule Binding Nucleotides in RNA Structures Using RNA Surface Topography.\n",
      "added: The GenPPI tool enhanced Protein Interaction Network Generation with Machine Learning-Based Protein Similarity Inference\n",
      "added: Molecular Dynamics Simulations in Protein-Protein Docking.\n",
      "added: OmniGenome: Aligning RNA Sequences with Secondary Structures in Genomic Foundation Models\n",
      "added: learnMSA2: deep protein multiple alignments with large language and hidden Markov models\n",
      "added: Seqrutinator: scrutiny of large protein superfamily sequence datasets for the identification and elimination of non-functional homologues\n",
      "added: moPPIt: De Novo Generation of Motif-Specific Binders with Protein Language Models\n",
      "added: PHIStruct: Improving phage-host interaction prediction at low sequence similarity settings using structure-aware protein embeddings\n",
      "added: Docking Foundations: From Rigid to Flexible Docking.\n",
      "added: Design Proteins Using Large Language Models: Enhancements and Comparative Analyses\n",
      "added: TooT-PLM-P2S: Incorporating Secondary Structure Information into Protein Language Models\n",
      "added: UniPTM: Multiple PTM site prediction on full-length protein sequence\n",
      "added: Predicting small-molecule inhibition of protein complexes\n",
      "added: Exploring protein functions from structural flexibility using CABS‐flex modeling\n",
      "added: Accurate Structure Prediction for Cyclic Peptides Containing Proline Residues with High-Temperature Molecular Dynamics.\n",
      "added: Ensembles from Ordered and\n",
      "added: PepBinding: A Workflow for Predicting Peptide Binding Structures by Combining Peptide Docking and Peptide Gaussian Accelerated Molecular Dynamics Simulations.\n",
      "added: Computational Methods to Target Protein-Protein Interactions.\n",
      "added: ProteinRPN: Towards Accurate Protein Function Prediction with Graph-Based Region Proposals\n",
      "added: Deep dive into RNA: a systematic literature review on RNA structure prediction using machine learning methods\n",
      "added: A Hybrid Local Search for Simpliﬁed Protein Structure Prediction\n",
      "added: A Hybrid Local Search for Simpliﬁed Protein Structure Prediction\n",
      "added: Advancing membrane-associated protein docking with improved sampling and scoring in Rosetta\n",
      "added: WatFinder: a ProDy tool for protein–water interactions\n",
      "added: An efficient algorithm to compute the minimum free energy of interacting nucleic acid strands\n",
      "added: OPUS-BFactor: Predicting protein B-factor with sequence and structure information\n",
      "added: FoldToken4: Consistent & Hierarchical Fold Language\n",
      "added: Rapid protein evolution by few-shot learning with a protein language model\n",
      "added: Mapping the space of protein binding sites with sequence-based protein language models\n",
      "added: Understanding the roles of secondary shell hotspots in protein-protein complexes\n",
      "added: Machine learning-assisted substrate binding pocket engineering based on structural information\n",
      "added: Challenges of Protein-Protein Docking of the Membrane Proteins.\n",
      "added: Peptide Sequencing Via Protein Language Models\n",
      "added: Automated High-throughput Organic Crystal Structure Prediction via Population-based Sampling\n",
      "added: AncFlow: An Ancestral Sequence Reconstruction Approach for Determining Novel Protein Structural\n",
      "already added: Predicting the structure of large protein complexes using AlphaFold and Monte Carlo tree search\n",
      "already added: Single-sequence protein-RNA complex structure prediction by geometric attention-enabled pairing of biological language models\n",
      "already added: Technical Report of HelixFold3 for Biomolecular Structure Prediction\n",
      "already added: Unsupervised domain classification of AlphaFold2-predicted protein structures\n",
      "already added: PANDA-3D: protein function prediction based on AlphaFold models\n",
      "already added: Multiple Protein Structure Alignment at Scale with FoldMason\n",
      "already added: Evaluation of AlphaFold 3’s Protein–Protein Complexes for Predicting Binding Free Energy Changes upon Mutation\n",
      "already added: AlphaFold2 knows some protein folding principles\n",
      "already added: Bridging the Gap between Sequence and Structure Classifications of Proteins with AlphaFold Models.\n",
      "already added: CSSP-2.0: A refined consensus method for accurate protein secondary structure prediction\n",
      "already added: Large protein databases reveal structural complementarity and functional locality\n",
      "already added: In the AlphaFold era, when is experimental phasing of protein crystals still required?\n",
      "already added: AlphaFold2 Predicts Alternative Conformation Populations in Green Fluorescent Protein Variants.\n",
      "already added: TMHC-MSAT: Accurate Prediction of Inter-Helical Residue Contacts in Transmembrane Proteins Using MSA Transformer\n",
      "already added: Using deep learning predictions reveals a large number of register errors in PDB deposits\n",
      "already added: Generation of a high confidence set of domain–domain interface types to guide protein complex structure predictions by AlphaFold\n",
      "already added: AlphaFold predictions of fold-switched conformations are driven by structure memorization\n",
      "already added: Refinement of Docked Protein-Protein Complexes Using Repulsive Scaling Replica Exchange Simulations.\n",
      "already added: Benchmarking Protein Language Models for Protein Crystallization\n",
      "already added: An end-to-end framework for the prediction of protein structure and fitness from single sequence\n",
      "already added: Multi-Modal Large Language Model Enables Protein Function Prediction\n",
      "already added: PLMC: Language Model of Protein Sequences Enhances Protein Crystallization Prediction.\n",
      "already added: Benchmarking Methods for PROTAC Ternary Complex Structure Prediction.\n",
      "already added: DeepStruct: Integrating protein graph structure and sequence for PPI prediction\n",
      "already added: STRPsearch: fast detection of structured tandem repeat proteins\n",
      "already added: Clustering protein functional families at large scale with hierarchical approaches\n",
      "already added: AI-Driven Deep Learning Techniques in Protein Structure Prediction\n",
      "already added: Compact assessment of molecular surface complementarities enhances neural network-aided prediction of key binding residues\n",
      "already added: Design of intrinsically disordered protein variants with diverse structural properties\n",
      "already added: Computational Methods to Investigate Intrinsically Disordered Proteins and their Complexes\n",
      "already added: PredIDR: Accurate prediction of protein intrinsic disorder regions using deep convolutional neural network\n",
      "already added: FEDKEA: Enzyme function prediction with a large pretrained protein language model and distance-weighted k-nearest neighbor\n",
      "already added: Adapting protein language models for structure-conditioned design\n",
      "already added: Posetta: Language-Guided Protein Design\n",
      "already added: SAAMBE-MEM: A Sequence-Based Method for Predicting Binding Free Energy Change upon Mutation in Membrane Protein-Protein Complexes.\n",
      "already added: Advanced atom-level representations for protein flexibility prediction utilizing graph neural networks\n",
      "already added: Assessment of scoring functions for computational models of protein-protein interfaces\n",
      "already added: StrIDR: a database of intrinsically disordered regions of proteins with experimentally resolved structures\n",
      "already added: OPUS-Design: Designing Protein Sequence from Backbone Structure with 3DCNN and Protein Language Model\n",
      "already added: PairK: Pairwise k-mer alignment for quantifying protein motif conservation in disordered regions\n",
      "already added: Massively parallel measurement of protein-protein interactions by sequencing using MP3-seq.\n",
      "already added: HerpesFolds: A proteome-wide structural systems approach reveals insights into protein families and activities of all nine human herpesviruses\n",
      "already added: A Curated Rotamer Library for Common Post-Translational Modifications of Proteins\n",
      "already added: A dataset of alternately located segments in protein crystal structures\n",
      "already added: Site-resolved energetic information from HX/MS experiments\n",
      "already added: Gradations in protein dynamics captured by experimental NMR are not well represented by AlphaFold2 models and other computational metrics\n",
      "already added: Sequence-specific targeting of intrinsically disordered protein regions\n",
      "already added: Deep learning methods for protein function prediction.\n",
      "already added: Augmenting Evolutionary Models with Structure-based Retrieval\n",
      "already added: Accurate prediction of protein function using statistics-informed graph networks\n",
      "already added: Unraveling the role of physicochemical differences in predicting protein-protein interactions.\n",
      "already added: Dynamic PDB: A New Dataset and a SE(3) Model Extension by Integrating Dynamic Behaviors and Physical Properties in Protein Structures\n",
      "already added: Predict metal-binding proteins and structures through integration of evolutionary-scale and physics-based modeling\n",
      "already added: mdCATH: A Large-Scale MD Dataset for Data-Driven Computational Biophysics\n",
      "already added: Predicting protein conformational motions using energetic frustration analysis and AlphaFold2.\n",
      "already added: Non-standard proteins in the lenses of AlphaFold3 - case study of amyloids\n",
      "already added: Predicting Conformational Ensembles of Intrinsically Disordered Proteins: From Molecular Dynamics to Machine Learning.\n",
      "already added: GalaxyDock-DL: Protein-Ligand Docking by Global Optimization and Neural Network Energy.\n",
      "already added: Results of the Protein Engineering Tournament: An Open Science Benchmark for Protein Modeling and Design\n",
      "already added: Unifying Sequences, Structures, and Descriptions for Any-to-Any Protein Generation with the Large Multimodal Model HelixProtX\n",
      "already added: Streamlining NMR Chemical Shift Predictions for Intrinsically Disordered Proteins: Design of Ensembles with Dimensionality Reduction and Clustering.\n",
      "already added: rpcFold: residual parallel convolutional neural network to decipher RNA folding from RNA sequence\n",
      "already added: MIPDS: a comprehensive database on the molecular interactions in protein dimer structures\n",
      "already added: Severe deviation in protein fold prediction by advanced AI: a case study\n",
      "already added: From Static to Dynamic Structures: Improving Binding Affinity Prediction with Graph-Based Deep Learning.\n",
      "already added: Protein Classes Predicted by Molecular Surface Chemical Features: Machine Learning-Assisted Classification of Cytosol and Secreted Proteins.\n",
      "already added: Predicting Small Molecule Binding Nucleotides in RNA Structures Using RNA Surface Topography.\n",
      "already added: The GenPPI tool enhanced Protein Interaction Network Generation with Machine Learning-Based Protein Similarity Inference\n",
      "already added: Molecular Dynamics Simulations in Protein-Protein Docking.\n",
      "already added: OmniGenome: Aligning RNA Sequences with Secondary Structures in Genomic Foundation Models\n",
      "already added: learnMSA2: deep protein multiple alignments with large language and hidden Markov models\n",
      "already added: Seqrutinator: scrutiny of large protein superfamily sequence datasets for the identification and elimination of non-functional homologues\n",
      "already added: moPPIt: De Novo Generation of Motif-Specific Binders with Protein Language Models\n",
      "already added: PHIStruct: Improving phage-host interaction prediction at low sequence similarity settings using structure-aware protein embeddings\n",
      "already added: Docking Foundations: From Rigid to Flexible Docking.\n",
      "already added: Design Proteins Using Large Language Models: Enhancements and Comparative Analyses\n",
      "already added: TooT-PLM-P2S: Incorporating Secondary Structure Information into Protein Language Models\n",
      "already added: UniPTM: Multiple PTM site prediction on full-length protein sequence\n",
      "already added: Predicting small-molecule inhibition of protein complexes\n",
      "already added: Exploring protein functions from structural flexibility using CABS‐flex modeling\n",
      "already added: Accurate Structure Prediction for Cyclic Peptides Containing Proline Residues with High-Temperature Molecular Dynamics.\n",
      "already added: Ensembles from Ordered and\n",
      "already added: PepBinding: A Workflow for Predicting Peptide Binding Structures by Combining Peptide Docking and Peptide Gaussian Accelerated Molecular Dynamics Simulations.\n",
      "already added: Computational Methods to Target Protein-Protein Interactions.\n",
      "already added: ProteinRPN: Towards Accurate Protein Function Prediction with Graph-Based Region Proposals\n",
      "already added: Deep dive into RNA: a systematic literature review on RNA structure prediction using machine learning methods\n",
      "already added: A Hybrid Local Search for Simpliﬁed Protein Structure Prediction\n",
      "already added: A Hybrid Local Search for Simpliﬁed Protein Structure Prediction\n",
      "already added: Advancing membrane-associated protein docking with improved sampling and scoring in Rosetta\n",
      "already added: WatFinder: a ProDy tool for protein–water interactions\n",
      "already added: An efficient algorithm to compute the minimum free energy of interacting nucleic acid strands\n",
      "already added: OPUS-BFactor: Predicting protein B-factor with sequence and structure information\n",
      "already added: FoldToken4: Consistent & Hierarchical Fold Language\n",
      "already added: Rapid protein evolution by few-shot learning with a protein language model\n",
      "already added: Mapping the space of protein binding sites with sequence-based protein language models\n",
      "already added: Understanding the roles of secondary shell hotspots in protein-protein complexes\n",
      "already added: Machine learning-assisted substrate binding pocket engineering based on structural information\n",
      "already added: Challenges of Protein-Protein Docking of the Membrane Proteins.\n",
      "already added: Peptide Sequencing Via Protein Language Models\n",
      "already added: Automated High-throughput Organic Crystal Structure Prediction via Population-based Sampling\n",
      "already added: AncFlow: An Ancestral Sequence Reconstruction Approach for Determining Novel Protein Structural\n",
      "added: Predicting the structure of large protein complexes using AlphaFold and sequential assembly\n",
      "already added: Single-sequence protein-RNA complex structure prediction by geometric attention-enabled pairing of biological language models\n",
      "already added: Technical Report of HelixFold3 for Biomolecular Structure Prediction\n",
      "already added: Unsupervised domain classification of AlphaFold2-predicted protein structures\n",
      "already added: PANDA-3D: protein function prediction based on AlphaFold models\n",
      "already added: Multiple Protein Structure Alignment at Scale with FoldMason\n",
      "already added: Evaluation of AlphaFold 3’s Protein–Protein Complexes for Predicting Binding Free Energy Changes upon Mutation\n",
      "already added: AlphaFold2 knows some protein folding principles\n",
      "already added: Bridging the Gap between Sequence and Structure Classifications of Proteins with AlphaFold Models.\n",
      "already added: CSSP-2.0: A refined consensus method for accurate protein secondary structure prediction\n",
      "already added: Large protein databases reveal structural complementarity and functional locality\n",
      "already added: In the AlphaFold era, when is experimental phasing of protein crystals still required?\n"
     ]
    }
   ],
   "source": [
    "### 通过query搜索主题并把内容同步到notion database中\n",
    "\n",
    "## 生物\n",
    "# Define your Notion API key and database ID\n",
    "NOTION_DATABASE_ID = \"3001b93dfe62442c90c96bf6fa888feb\" #生物\n",
    "# NOTION_DATABASE_ID = \"8655c5459f8740a28e9f26f2f45a87dd\" #agent\n",
    "# NOTION_DATABASE_ID = \"0dec242526284b4aad0de077ff4ccf30\" #quant\n",
    "# NOTION_DATABASE_ID = \"85f5f98d2b3b48b3a49215c16525c28c\" # 多模态大模型\n",
    "# NOTION_DATABASE_ID = \"fff5a4c02cd580d491a9ef076c6509e3\" # neuroGPT\n",
    "\n",
    "# Define the search query\n",
    "query = \"CombFold: predicting structures of large protein assemblies\"\n",
    "\n",
    "import os,sys\n",
    "import requests\n",
    "\n",
    "# Get the project root directory\n",
    "project_root = os.path.abspath(os.path.join(os.getcwd(), '..'))\n",
    "\n",
    "# Add the project root directory to the PYTHONPATH\n",
    "if project_root not in sys.path:\n",
    "    sys.path.append(project_root)\n",
    "\n",
    "# Verify if the project root directory is in PYTHONPATH\n",
    "print(\"Project root added to PYTHONPATH:\", project_root in sys.path)\n",
    "\n",
    "from open_science_agent.api.semantic_scholar_client import SemanticScholarClient\n",
    "from open_science_agent.api.notion_client import NotionClient\n",
    "from open_science_agent.data_processing.functions import submit_paper_to_notion\n",
    "\n",
    "# Initialize the SemanticScholarClient\n",
    "semantic_scholar_client = SemanticScholarClient(timeout=(30, 100))\n",
    "\n",
    "# Initialize the NotionClient\n",
    "notion_client = NotionClient()\n",
    "\n",
    "# Perform the search by relevance\n",
    "results = semantic_scholar_client.call_function_with_retries(semantic_scholar_client.search_papers_by_relevance,query)\n",
    "\n",
    "# Iterate over the results and store them in the Notion database\n",
    "for paper in results.get(\"data\", []):\n",
    "    submit_paper_to_notion(paper, notion_client, NOTION_DATABASE_ID) \n",
    "    recommended_papers = semantic_scholar_client.call_function_with_retries(semantic_scholar_client.get_recommended_papers,results['data'][0]['paperId'])\n",
    "    for recommended_paper in recommended_papers.get('recommendedPapers',[]):\n",
    "        submit_paper_to_notion(recommended_paper, notion_client, NOTION_DATABASE_ID) \n",
    "\n",
    "print(\"All papers have been added to the Notion database.\")\n"
   ]
  },
  {
   "cell_type": "code",
   "execution_count": 4,
   "metadata": {},
   "outputs": [
    {
     "data": {
      "application/vnd.jupyter.widget-view+json": {
       "model_id": "0abdd70028b4489f8e20376b84681bbd",
       "version_major": 2,
       "version_minor": 0
      },
      "text/plain": [
       "Dropdown(description='Notion DB:', options={'生物': '3001b93dfe62442c90c96bf6fa888feb', 'Agent': '8655c5459f8740…"
      ]
     },
     "metadata": {},
     "output_type": "display_data"
    },
    {
     "data": {
      "application/vnd.jupyter.widget-view+json": {
       "model_id": "432983f31f5946dea011101139b6641a",
       "version_major": 2,
       "version_minor": 0
      },
      "text/plain": [
       "Text(value='neuroscience neuroimage llm', description='Query:', placeholder='Type your search query here')"
      ]
     },
     "metadata": {},
     "output_type": "display_data"
    },
    {
     "data": {
      "application/vnd.jupyter.widget-view+json": {
       "model_id": "b1da2fda369d41c4b12da860a3175c40",
       "version_major": 2,
       "version_minor": 0
      },
      "text/plain": [
       "Button(description='Execute', icon='check', style=ButtonStyle(), tooltip='Click to execute the search and sync…"
      ]
     },
     "metadata": {},
     "output_type": "display_data"
    }
   ],
   "source": [
    "import os\n",
    "import sys\n",
    "import requests\n",
    "import ipywidgets as widgets\n",
    "from IPython.display import display, clear_output\n",
    "\n",
    "# 将open_science_agent库添加到Python路径中\n",
    "project_root = os.path.abspath(os.path.join(os.getcwd(), '..'))\n",
    "if project_root not in sys.path:\n",
    "    sys.path.append(project_root)\n",
    "\n",
    "from open_science_agent.api.semantic_scholar_client import SemanticScholarClient\n",
    "from open_science_agent.api.notion_client import NotionClient\n",
    "from open_science_agent.data_processing.functions import map_paper_to_notion_properties\n",
    "\n",
    "# 初始化SemanticScholarClient和NotionClient\n",
    "semantic_scholar_client = SemanticScholarClient(timeout=(30, 100))\n",
    "notion_client = NotionClient()\n",
    "\n",
    "# 创建Notion数据库ID的下拉菜单\n",
    "notion_db_options = {\n",
    "    \"生物\": \"3001b93dfe62442c90c96bf6fa888feb\",\n",
    "    \"Agent\": \"8655c5459f8740a28e9f26f2f45a87dd\",\n",
    "    \"Quant\": \"0dec242526284b4aad0de077ff4ccf30\",\n",
    "    \"多模态大模型\": \"85f5f98d2b3b48b3a49215c16525c28c\",\n",
    "    \"医学大模型\": \"fff5a4c02cd580d491a9ef076c6509e3\"\n",
    "}\n",
    "\n",
    "notion_db_dropdown = widgets.Dropdown(\n",
    "    options=notion_db_options,\n",
    "    description='Notion DB:',\n",
    "    disabled=False,\n",
    ")\n",
    "\n",
    "# 创建搜索query的文本输入框\n",
    "query_input = widgets.Text(\n",
    "    value='neuroscience neuroimage llm',\n",
    "    placeholder='Type your search query here',\n",
    "    description='Query:',\n",
    "    disabled=False\n",
    ")\n",
    "\n",
    "# 创建执行按钮\n",
    "execute_button = widgets.Button(\n",
    "    description='Execute',\n",
    "    disabled=False,\n",
    "    button_style='', \n",
    "    tooltip='Click to execute the search and sync with Notion',\n",
    "    icon='check'\n",
    ")\n",
    "\n",
    "# 定义按钮点击事件的处理函数\n",
    "def on_execute_button_clicked(b):\n",
    "    clear_output(wait=True)\n",
    "    \n",
    "    # 选择的Notion数据库ID\n",
    "    NOTION_DATABASE_ID = notion_db_dropdown.value\n",
    "    \n",
    "    # 输入的搜索query\n",
    "    query = query_input.value\n",
    "    \n",
    "    print(f\"Selected Notion Database ID: {NOTION_DATABASE_ID}\")\n",
    "    print(f\"Search Query: {query}\")\n",
    "    \n",
    "    # 执行搜索并同步到Notion数据库\n",
    "    results = semantic_scholar_client.get_search_results_with_retries(query)\n",
    "    \n",
    "    for paper in results.get(\"data\", []):\n",
    "        properties = map_paper_to_notion_properties(paper)\n",
    "        \n",
    "        filter_criteria = {\"property\": \"PaperId\", \"rich_text\": {\"equals\": paper.get('paperId')}}\n",
    "        query_results = notion_client.query_database(NOTION_DATABASE_ID, filter_criteria=filter_criteria)\n",
    "        \n",
    "        if len(query_results['results']) == 0:\n",
    "            feed_back = notion_client.create_page(database_id=NOTION_DATABASE_ID, properties=properties)\n",
    "            print('Added:', paper.get(\"title\", {}))\n",
    "        else:\n",
    "            print('Already added:', paper.get(\"title\", {}))\n",
    "\n",
    "    print(\"All papers have been added to the Notion database.\")\n",
    "\n",
    "# 绑定按钮点击事件处理函数\n",
    "execute_button.on_click(on_execute_button_clicked)\n",
    "\n",
    "# 显示交互式小部件\n",
    "display(notion_db_dropdown, query_input, execute_button)\n"
   ]
  },
  {
   "cell_type": "code",
   "execution_count": 12,
   "metadata": {},
   "outputs": [
    {
     "data": {
      "text/plain": [
       "{'rich_text': [{'text': {'content': 'a20411effeaac9aa457e528090dc274cb46c3412'}}]}"
      ]
     },
     "execution_count": 12,
     "metadata": {},
     "output_type": "execute_result"
    }
   ],
   "source": [
    "properties.get('PaperId')"
   ]
  },
  {
   "cell_type": "code",
   "execution_count": 15,
   "metadata": {},
   "outputs": [
    {
     "name": "stdout",
     "output_type": "stream",
     "text": [
      "{'object': 'list', 'results': [{'object': 'page', 'id': 'e12b2d75-c70d-4f0f-bde1-00b24df946cd', 'created_time': '2024-08-13T09:36:00.000Z', 'last_edited_time': '2024-08-13T09:36:00.000Z', 'created_by': {'object': 'user', 'id': '6d558a8e-25e6-4afa-af8b-ae2dc29f5c2a'}, 'last_edited_by': {'object': 'user', 'id': '6d558a8e-25e6-4afa-af8b-ae2dc29f5c2a'}, 'cover': None, 'icon': None, 'parent': {'type': 'database_id', 'database_id': '3001b93d-fe62-442c-90c9-6bf6fa888feb'}, 'archived': False, 'in_trash': False, 'properties': {'FieldsOfStudy': {'id': '%3C_On', 'type': 'rich_text', 'rich_text': [{'type': 'text', 'text': {'content': '[\"Medicine\"]', 'link': None}, 'annotations': {'bold': False, 'italic': False, 'strikethrough': False, 'underline': False, 'code': False, 'color': 'default'}, 'plain_text': '[\"Medicine\"]', 'href': None}]}, 'PublicationVenue': {'id': '%3DR_m', 'type': 'rich_text', 'rich_text': [{'type': 'text', 'text': {'content': '{\"id\": \"099483df-e8f2-4bee-805d-8a69f07b6cbf\", \"name\": \"Nature Methods\", \"type\": \"journal\", \"alternate_names\": [\"Nat Method\"], \"issn\": \"1548-7091\", \"url\": \"http://www.nature.com/\", \"alternate_urls\": [\"http://www.nature.com/nmeth/index.html\", \"https://www.nature.com/nmeth/\", \"http://www.nature.com/nmeth/authors/index.html#aims\"]}', 'link': None}, 'annotations': {'bold': False, 'italic': False, 'strikethrough': False, 'underline': False, 'code': False, 'color': 'default'}, 'plain_text': '{\"id\": \"099483df-e8f2-4bee-805d-8a69f07b6cbf\", \"name\": \"Nature Methods\", \"type\": \"journal\", \"alternate_names\": [\"Nat Method\"], \"issn\": \"1548-7091\", \"url\": \"http://www.nature.com/\", \"alternate_urls\": [\"http://www.nature.com/nmeth/index.html\", \"https://www.nature.com/nmeth/\", \"http://www.nature.com/nmeth/authors/index.html#aims\"]}', 'href': None}]}, 'URL': {'id': 'BwcX', 'type': 'url', 'url': 'https://www.semanticscholar.org/paper/a20411effeaac9aa457e528090dc274cb46c3412'}, 'Authors': {'id': 'Fpvv', 'type': 'rich_text', 'rich_text': [{'type': 'text', 'text': {'content': 'M. Mirdita, S. Ovchinnikov, Martin Steinegger', 'link': None}, 'annotations': {'bold': False, 'italic': False, 'strikethrough': False, 'underline': False, 'code': False, 'color': 'default'}, 'plain_text': 'M. Mirdita, S. Ovchinnikov, Martin Steinegger', 'href': None}]}, 'ReferenceCount': {'id': 'JDdu', 'type': 'number', 'number': 50}, 'S2FieldsOfStudy': {'id': 'MTnc', 'type': 'rich_text', 'rich_text': [{'type': 'text', 'text': {'content': '[{\"category\": \"Medicine\", \"source\": \"external\"}, {\"category\": \"Computer Science\", \"source\": \"s2-fos-model\"}, {\"category\": \"Biology\", \"source\": \"s2-fos-model\"}]', 'link': None}, 'annotations': {'bold': False, 'italic': False, 'strikethrough': False, 'underline': False, 'code': False, 'color': 'default'}, 'plain_text': '[{\"category\": \"Medicine\", \"source\": \"external\"}, {\"category\": \"Computer Science\", \"source\": \"s2-fos-model\"}, {\"category\": \"Biology\", \"source\": \"s2-fos-model\"}]', 'href': None}]}, 'PaperId': {'id': 'N%7Cbs', 'type': 'rich_text', 'rich_text': [{'type': 'text', 'text': {'content': 'a20411effeaac9aa457e528090dc274cb46c3412', 'link': None}, 'annotations': {'bold': False, 'italic': False, 'strikethrough': False, 'underline': False, 'code': False, 'color': 'default'}, 'plain_text': 'a20411effeaac9aa457e528090dc274cb46c3412', 'href': None}]}, 'Tldr': {'id': 'O%7Cu%5C', 'type': 'rich_text', 'rich_text': [{'type': 'text', 'text': {'content': 'ColabFold offers accelerated prediction of protein structures and complexes by combining the fast homology search of MMseqs2 with AlphaFold2 or RoseTTAFold, and becomes a free and accessible platform for protein folding.', 'link': None}, 'annotations': {'bold': False, 'italic': False, 'strikethrough': False, 'underline': False, 'code': False, 'color': 'default'}, 'plain_text': 'ColabFold offers accelerated prediction of protein structures and complexes by combining the fast homology search of MMseqs2 with AlphaFold2 or RoseTTAFold, and becomes a free and accessible platform for protein folding.', 'href': None}]}, 'Venue': {'id': 'PvVR', 'type': 'rich_text', 'rich_text': [{'type': 'text', 'text': {'content': 'Nature Methods', 'link': None}, 'annotations': {'bold': False, 'italic': False, 'strikethrough': False, 'underline': False, 'code': False, 'color': 'default'}, 'plain_text': 'Nature Methods', 'href': None}]}, 'IsOpenAccess': {'id': 'WoHz', 'type': 'rich_text', 'rich_text': [{'type': 'text', 'text': {'content': 'True', 'link': None}, 'annotations': {'bold': False, 'italic': False, 'strikethrough': False, 'underline': False, 'code': False, 'color': 'default'}, 'plain_text': 'True', 'href': None}]}, 'PublicationDate': {'id': 'Zz%3Eb', 'type': 'rich_text', 'rich_text': [{'type': 'text', 'text': {'content': '2022-05-30', 'link': None}, 'annotations': {'bold': False, 'italic': False, 'strikethrough': False, 'underline': False, 'code': False, 'color': 'default'}, 'plain_text': '2022-05-30', 'href': None}]}, 'OpenAccessPdf': {'id': '%5BdAN', 'type': 'rich_text', 'rich_text': [{'type': 'text', 'text': {'content': 'https://www.nature.com/articles/s41592-022-01488-1.pdf', 'link': None}, 'annotations': {'bold': False, 'italic': False, 'strikethrough': False, 'underline': False, 'code': False, 'color': 'default'}, 'plain_text': 'https://www.nature.com/articles/s41592-022-01488-1.pdf', 'href': None}]}, 'Abstract': {'id': 'bNI%7B', 'type': 'rich_text', 'rich_text': [{'type': 'text', 'text': {'content': 'No abstract available.', 'link': None}, 'annotations': {'bold': False, 'italic': False, 'strikethrough': False, 'underline': False, 'code': False, 'color': 'default'}, 'plain_text': 'No abstract available.', 'href': None}]}, 'Year': {'id': 'i%5CK%3D', 'type': 'number', 'number': 2022}, 'PublicationTypes': {'id': 'jC%5E%40', 'type': 'rich_text', 'rich_text': [{'type': 'text', 'text': {'content': '[\"JournalArticle\"]', 'link': None}, 'annotations': {'bold': False, 'italic': False, 'strikethrough': False, 'underline': False, 'code': False, 'color': 'default'}, 'plain_text': '[\"JournalArticle\"]', 'href': None}]}, 'Journal': {'id': 'qATL', 'type': 'rich_text', 'rich_text': [{'type': 'text', 'text': {'content': 'Nature Methods', 'link': None}, 'annotations': {'bold': False, 'italic': False, 'strikethrough': False, 'underline': False, 'code': False, 'color': 'default'}, 'plain_text': 'Nature Methods', 'href': None}]}, 'InfluentialCitationCount': {'id': 's%3ETz', 'type': 'number', 'number': 386}, 'ExternalIds': {'id': 'xEcb', 'type': 'rich_text', 'rich_text': [{'type': 'text', 'text': {'content': '{\"PubMedCentral\": \"9184281\", \"DOI\": \"10.1038/s41592-022-01488-1\", \"CorpusId\": 237155730, \"PubMed\": \"35637307\"}', 'link': None}, 'annotations': {'bold': False, 'italic': False, 'strikethrough': False, 'underline': False, 'code': False, 'color': 'default'}, 'plain_text': '{\"PubMedCentral\": \"9184281\", \"DOI\": \"10.1038/s41592-022-01488-1\", \"CorpusId\": 237155730, \"PubMed\": \"35637307\"}', 'href': None}]}, 'CitationStyles': {'id': '%7CCDq', 'type': 'rich_text', 'rich_text': [{'type': 'text', 'text': {'content': '{\"bibtex\": \"@Article{Mirdita2022ColabFoldMP,\\\\n author = {M. Mirdita and S. Ovchinnikov and Martin Steinegger},\\\\n booktitle = {Nature Methods},\\\\n journal = {Nature Methods},\\\\n pages = {679 - 682},\\\\n title = {ColabFold: making protein folding accessible to all},\\\\n volume = {19},\\\\n year = {2022}\\\\n}\\\\n\"}', 'link': None}, 'annotations': {'bold': False, 'italic': False, 'strikethrough': False, 'underline': False, 'code': False, 'color': 'default'}, 'plain_text': '{\"bibtex\": \"@Article{Mirdita2022ColabFoldMP,\\\\n author = {M. Mirdita and S. Ovchinnikov and Martin Steinegger},\\\\n booktitle = {Nature Methods},\\\\n journal = {Nature Methods},\\\\n pages = {679 - 682},\\\\n title = {ColabFold: making protein folding accessible to all},\\\\n volume = {19},\\\\n year = {2022}\\\\n}\\\\n\"}', 'href': None}]}, 'CitationCount': {'id': '~p%7C%3F', 'type': 'number', 'number': 3916}, 'Title': {'id': 'title', 'type': 'title', 'title': [{'type': 'text', 'text': {'content': 'ColabFold: making protein folding accessible to all', 'link': None}, 'annotations': {'bold': False, 'italic': False, 'strikethrough': False, 'underline': False, 'code': False, 'color': 'default'}, 'plain_text': 'ColabFold: making protein folding accessible to all', 'href': None}]}}, 'url': 'https://www.notion.so/ColabFold-making-protein-folding-accessible-to-all-e12b2d75c70d4f0fbde100b24df946cd', 'public_url': None}], 'next_cursor': None, 'has_more': False, 'type': 'page_or_database', 'page_or_database': {}, 'request_id': 'e7f4c228-fb03-4d7c-b852-5de74d9175d8'}\n"
     ]
    }
   ],
   "source": [
    "\n",
    "# 定义过滤器和排序条件\n",
    "filter_criteria = {\"property\": \"PaperId\",\"rich_text\": {\"equals\": paper.get('paperId')}}\n",
    "# 查询数据库\n",
    "results = notion_client.query_database(NOTION_DATABASE_ID, filter_criteria=filter_criteria)\n",
    "\n",
    "# 处理结果\n",
    "print(results)"
   ]
  },
  {
   "cell_type": "code",
   "execution_count": 9,
   "metadata": {},
   "outputs": [
    {
     "data": {
      "text/plain": [
       "0"
      ]
     },
     "execution_count": 9,
     "metadata": {},
     "output_type": "execute_result"
    }
   ],
   "source": [
    "len(results['results'])"
   ]
  },
  {
   "cell_type": "code",
   "execution_count": 4,
   "metadata": {},
   "outputs": [
    {
     "data": {
      "text/plain": [
       "{'total': 0, 'offset': 0}"
      ]
     },
     "execution_count": 4,
     "metadata": {},
     "output_type": "execute_result"
    }
   ],
   "source": [
    "results"
   ]
  },
  {
   "cell_type": "markdown",
   "metadata": {},
   "source": [
    "### 交互式文献搜索\n",
    "下面的代码实现了一个交互式的程序，用户可以通过输入查询关键字，动态获取并显示相关的学术论文结果。"
   ]
  },
  {
   "cell_type": "code",
   "execution_count": null,
   "metadata": {},
   "outputs": [
    {
     "data": {
      "application/vnd.jupyter.widget-view+json": {
       "model_id": "d168c57647de48fb814e1fed1b60317d",
       "version_major": 2,
       "version_minor": 0
      },
      "text/plain": [
       "Text(value='machine learning in atmospheric science', description='Query:', placeholder='Enter search query')"
      ]
     },
     "metadata": {},
     "output_type": "display_data"
    },
    {
     "data": {
      "application/vnd.jupyter.widget-view+json": {
       "model_id": "c7bb334fe04a48f8b89d61d6241ec181",
       "version_major": 2,
       "version_minor": 0
      },
      "text/plain": [
       "Button(description='Search', icon='search', style=ButtonStyle(), tooltip='Search for papers')"
      ]
     },
     "metadata": {},
     "output_type": "display_data"
    },
    {
     "data": {
      "application/vnd.jupyter.widget-view+json": {
       "model_id": "6ec9aa31edc248a9a1e21de8cba5d358",
       "version_major": 2,
       "version_minor": 0
      },
      "text/plain": [
       "Output()"
      ]
     },
     "metadata": {},
     "output_type": "display_data"
    },
    {
     "ename": "ConnectTimeout",
     "evalue": "HTTPSConnectionPool(host='api.semanticscholar.org', port=443): Max retries exceeded with url: /graph/v1/paper/search?query=llava&offset=0&limit=20&fields=corpusId%2Curl%2Ctitle%2Cvenue%2CpublicationVenue%2Cyear%2Cauthors%2CexternalIds%2Cabstract%2CreferenceCount%2CcitationCount%2CinfluentialCitationCount%2CisOpenAccess%2CopenAccessPdf%2CfieldsOfStudy%2Cs2FieldsOfStudy%2CpublicationTypes%2CpublicationDate%2Cjournal%2CcitationStyles%2Ctldr&publicationTypes=Review%2CJournalArticle&minCitationCount=5 (Caused by ConnectTimeoutError(<urllib3.connection.HTTPSConnection object at 0x000001817ED359A0>, 'Connection to api.semanticscholar.org timed out. (connect timeout=None)'))",
     "output_type": "error",
     "traceback": [
      "\u001b[1;31m---------------------------------------------------------------------------\u001b[0m",
      "\u001b[1;31mTimeoutError\u001b[0m                              Traceback (most recent call last)",
      "File \u001b[1;32md:\\code\\.openscholar.venv\\Lib\\site-packages\\urllib3\\connection.py:174\u001b[0m, in \u001b[0;36mHTTPConnection._new_conn\u001b[1;34m(self)\u001b[0m\n\u001b[0;32m    173\u001b[0m \u001b[38;5;28;01mtry\u001b[39;00m:\n\u001b[1;32m--> 174\u001b[0m     conn \u001b[38;5;241m=\u001b[39m \u001b[43mconnection\u001b[49m\u001b[38;5;241;43m.\u001b[39;49m\u001b[43mcreate_connection\u001b[49m\u001b[43m(\u001b[49m\n\u001b[0;32m    175\u001b[0m \u001b[43m        \u001b[49m\u001b[43m(\u001b[49m\u001b[38;5;28;43mself\u001b[39;49m\u001b[38;5;241;43m.\u001b[39;49m\u001b[43m_dns_host\u001b[49m\u001b[43m,\u001b[49m\u001b[43m \u001b[49m\u001b[38;5;28;43mself\u001b[39;49m\u001b[38;5;241;43m.\u001b[39;49m\u001b[43mport\u001b[49m\u001b[43m)\u001b[49m\u001b[43m,\u001b[49m\u001b[43m \u001b[49m\u001b[38;5;28;43mself\u001b[39;49m\u001b[38;5;241;43m.\u001b[39;49m\u001b[43mtimeout\u001b[49m\u001b[43m,\u001b[49m\u001b[43m \u001b[49m\u001b[38;5;241;43m*\u001b[39;49m\u001b[38;5;241;43m*\u001b[39;49m\u001b[43mextra_kw\u001b[49m\n\u001b[0;32m    176\u001b[0m \u001b[43m    \u001b[49m\u001b[43m)\u001b[49m\n\u001b[0;32m    178\u001b[0m \u001b[38;5;28;01mexcept\u001b[39;00m SocketTimeout:\n",
      "File \u001b[1;32md:\\code\\.openscholar.venv\\Lib\\site-packages\\urllib3\\util\\connection.py:95\u001b[0m, in \u001b[0;36mcreate_connection\u001b[1;34m(address, timeout, source_address, socket_options)\u001b[0m\n\u001b[0;32m     94\u001b[0m \u001b[38;5;28;01mif\u001b[39;00m err \u001b[38;5;129;01mis\u001b[39;00m \u001b[38;5;129;01mnot\u001b[39;00m \u001b[38;5;28;01mNone\u001b[39;00m:\n\u001b[1;32m---> 95\u001b[0m     \u001b[38;5;28;01mraise\u001b[39;00m err\n\u001b[0;32m     97\u001b[0m \u001b[38;5;28;01mraise\u001b[39;00m socket\u001b[38;5;241m.\u001b[39merror(\u001b[38;5;124m\"\u001b[39m\u001b[38;5;124mgetaddrinfo returns an empty list\u001b[39m\u001b[38;5;124m\"\u001b[39m)\n",
      "File \u001b[1;32md:\\code\\.openscholar.venv\\Lib\\site-packages\\urllib3\\util\\connection.py:85\u001b[0m, in \u001b[0;36mcreate_connection\u001b[1;34m(address, timeout, source_address, socket_options)\u001b[0m\n\u001b[0;32m     84\u001b[0m     sock\u001b[38;5;241m.\u001b[39mbind(source_address)\n\u001b[1;32m---> 85\u001b[0m \u001b[43msock\u001b[49m\u001b[38;5;241;43m.\u001b[39;49m\u001b[43mconnect\u001b[49m\u001b[43m(\u001b[49m\u001b[43msa\u001b[49m\u001b[43m)\u001b[49m\n\u001b[0;32m     86\u001b[0m \u001b[38;5;28;01mreturn\u001b[39;00m sock\n",
      "\u001b[1;31mTimeoutError\u001b[0m: [WinError 10060] 由于连接方在一段时间后没有正确答复或连接的主机没有反应，连接尝试失败。",
      "\nDuring handling of the above exception, another exception occurred:\n",
      "\u001b[1;31mConnectTimeoutError\u001b[0m                       Traceback (most recent call last)",
      "File \u001b[1;32md:\\code\\.openscholar.venv\\Lib\\site-packages\\urllib3\\connectionpool.py:715\u001b[0m, in \u001b[0;36mHTTPConnectionPool.urlopen\u001b[1;34m(self, method, url, body, headers, retries, redirect, assert_same_host, timeout, pool_timeout, release_conn, chunked, body_pos, **response_kw)\u001b[0m\n\u001b[0;32m    714\u001b[0m \u001b[38;5;66;03m# Make the request on the httplib connection object.\u001b[39;00m\n\u001b[1;32m--> 715\u001b[0m httplib_response \u001b[38;5;241m=\u001b[39m \u001b[38;5;28;43mself\u001b[39;49m\u001b[38;5;241;43m.\u001b[39;49m\u001b[43m_make_request\u001b[49m\u001b[43m(\u001b[49m\n\u001b[0;32m    716\u001b[0m \u001b[43m    \u001b[49m\u001b[43mconn\u001b[49m\u001b[43m,\u001b[49m\n\u001b[0;32m    717\u001b[0m \u001b[43m    \u001b[49m\u001b[43mmethod\u001b[49m\u001b[43m,\u001b[49m\n\u001b[0;32m    718\u001b[0m \u001b[43m    \u001b[49m\u001b[43murl\u001b[49m\u001b[43m,\u001b[49m\n\u001b[0;32m    719\u001b[0m \u001b[43m    \u001b[49m\u001b[43mtimeout\u001b[49m\u001b[38;5;241;43m=\u001b[39;49m\u001b[43mtimeout_obj\u001b[49m\u001b[43m,\u001b[49m\n\u001b[0;32m    720\u001b[0m \u001b[43m    \u001b[49m\u001b[43mbody\u001b[49m\u001b[38;5;241;43m=\u001b[39;49m\u001b[43mbody\u001b[49m\u001b[43m,\u001b[49m\n\u001b[0;32m    721\u001b[0m \u001b[43m    \u001b[49m\u001b[43mheaders\u001b[49m\u001b[38;5;241;43m=\u001b[39;49m\u001b[43mheaders\u001b[49m\u001b[43m,\u001b[49m\n\u001b[0;32m    722\u001b[0m \u001b[43m    \u001b[49m\u001b[43mchunked\u001b[49m\u001b[38;5;241;43m=\u001b[39;49m\u001b[43mchunked\u001b[49m\u001b[43m,\u001b[49m\n\u001b[0;32m    723\u001b[0m \u001b[43m\u001b[49m\u001b[43m)\u001b[49m\n\u001b[0;32m    725\u001b[0m \u001b[38;5;66;03m# If we're going to release the connection in ``finally:``, then\u001b[39;00m\n\u001b[0;32m    726\u001b[0m \u001b[38;5;66;03m# the response doesn't need to know about the connection. Otherwise\u001b[39;00m\n\u001b[0;32m    727\u001b[0m \u001b[38;5;66;03m# it will also try to release it and we'll have a double-release\u001b[39;00m\n\u001b[0;32m    728\u001b[0m \u001b[38;5;66;03m# mess.\u001b[39;00m\n",
      "File \u001b[1;32md:\\code\\.openscholar.venv\\Lib\\site-packages\\urllib3\\connectionpool.py:404\u001b[0m, in \u001b[0;36mHTTPConnectionPool._make_request\u001b[1;34m(self, conn, method, url, timeout, chunked, **httplib_request_kw)\u001b[0m\n\u001b[0;32m    403\u001b[0m \u001b[38;5;28;01mtry\u001b[39;00m:\n\u001b[1;32m--> 404\u001b[0m     \u001b[38;5;28;43mself\u001b[39;49m\u001b[38;5;241;43m.\u001b[39;49m\u001b[43m_validate_conn\u001b[49m\u001b[43m(\u001b[49m\u001b[43mconn\u001b[49m\u001b[43m)\u001b[49m\n\u001b[0;32m    405\u001b[0m \u001b[38;5;28;01mexcept\u001b[39;00m (SocketTimeout, BaseSSLError) \u001b[38;5;28;01mas\u001b[39;00m e:\n\u001b[0;32m    406\u001b[0m     \u001b[38;5;66;03m# Py2 raises this as a BaseSSLError, Py3 raises it as socket timeout.\u001b[39;00m\n",
      "File \u001b[1;32md:\\code\\.openscholar.venv\\Lib\\site-packages\\urllib3\\connectionpool.py:1058\u001b[0m, in \u001b[0;36mHTTPSConnectionPool._validate_conn\u001b[1;34m(self, conn)\u001b[0m\n\u001b[0;32m   1057\u001b[0m \u001b[38;5;28;01mif\u001b[39;00m \u001b[38;5;129;01mnot\u001b[39;00m \u001b[38;5;28mgetattr\u001b[39m(conn, \u001b[38;5;124m\"\u001b[39m\u001b[38;5;124msock\u001b[39m\u001b[38;5;124m\"\u001b[39m, \u001b[38;5;28;01mNone\u001b[39;00m):  \u001b[38;5;66;03m# AppEngine might not have  `.sock`\u001b[39;00m\n\u001b[1;32m-> 1058\u001b[0m     \u001b[43mconn\u001b[49m\u001b[38;5;241;43m.\u001b[39;49m\u001b[43mconnect\u001b[49m\u001b[43m(\u001b[49m\u001b[43m)\u001b[49m\n\u001b[0;32m   1060\u001b[0m \u001b[38;5;28;01mif\u001b[39;00m \u001b[38;5;129;01mnot\u001b[39;00m conn\u001b[38;5;241m.\u001b[39mis_verified:\n",
      "File \u001b[1;32md:\\code\\.openscholar.venv\\Lib\\site-packages\\urllib3\\connection.py:363\u001b[0m, in \u001b[0;36mHTTPSConnection.connect\u001b[1;34m(self)\u001b[0m\n\u001b[0;32m    361\u001b[0m \u001b[38;5;28;01mdef\u001b[39;00m \u001b[38;5;21mconnect\u001b[39m(\u001b[38;5;28mself\u001b[39m):\n\u001b[0;32m    362\u001b[0m     \u001b[38;5;66;03m# Add certificate verification\u001b[39;00m\n\u001b[1;32m--> 363\u001b[0m     \u001b[38;5;28mself\u001b[39m\u001b[38;5;241m.\u001b[39msock \u001b[38;5;241m=\u001b[39m conn \u001b[38;5;241m=\u001b[39m \u001b[38;5;28;43mself\u001b[39;49m\u001b[38;5;241;43m.\u001b[39;49m\u001b[43m_new_conn\u001b[49m\u001b[43m(\u001b[49m\u001b[43m)\u001b[49m\n\u001b[0;32m    364\u001b[0m     hostname \u001b[38;5;241m=\u001b[39m \u001b[38;5;28mself\u001b[39m\u001b[38;5;241m.\u001b[39mhost\n",
      "File \u001b[1;32md:\\code\\.openscholar.venv\\Lib\\site-packages\\urllib3\\connection.py:179\u001b[0m, in \u001b[0;36mHTTPConnection._new_conn\u001b[1;34m(self)\u001b[0m\n\u001b[0;32m    178\u001b[0m \u001b[38;5;28;01mexcept\u001b[39;00m SocketTimeout:\n\u001b[1;32m--> 179\u001b[0m     \u001b[38;5;28;01mraise\u001b[39;00m ConnectTimeoutError(\n\u001b[0;32m    180\u001b[0m         \u001b[38;5;28mself\u001b[39m,\n\u001b[0;32m    181\u001b[0m         \u001b[38;5;124m\"\u001b[39m\u001b[38;5;124mConnection to \u001b[39m\u001b[38;5;132;01m%s\u001b[39;00m\u001b[38;5;124m timed out. (connect timeout=\u001b[39m\u001b[38;5;132;01m%s\u001b[39;00m\u001b[38;5;124m)\u001b[39m\u001b[38;5;124m\"\u001b[39m\n\u001b[0;32m    182\u001b[0m         \u001b[38;5;241m%\u001b[39m (\u001b[38;5;28mself\u001b[39m\u001b[38;5;241m.\u001b[39mhost, \u001b[38;5;28mself\u001b[39m\u001b[38;5;241m.\u001b[39mtimeout),\n\u001b[0;32m    183\u001b[0m     )\n\u001b[0;32m    185\u001b[0m \u001b[38;5;28;01mexcept\u001b[39;00m SocketError \u001b[38;5;28;01mas\u001b[39;00m e:\n",
      "\u001b[1;31mConnectTimeoutError\u001b[0m: (<urllib3.connection.HTTPSConnection object at 0x000001817ED359A0>, 'Connection to api.semanticscholar.org timed out. (connect timeout=None)')",
      "\nDuring handling of the above exception, another exception occurred:\n",
      "\u001b[1;31mMaxRetryError\u001b[0m                             Traceback (most recent call last)",
      "File \u001b[1;32md:\\code\\.openscholar.venv\\Lib\\site-packages\\requests\\adapters.py:486\u001b[0m, in \u001b[0;36mHTTPAdapter.send\u001b[1;34m(self, request, stream, timeout, verify, cert, proxies)\u001b[0m\n\u001b[0;32m    485\u001b[0m \u001b[38;5;28;01mtry\u001b[39;00m:\n\u001b[1;32m--> 486\u001b[0m     resp \u001b[38;5;241m=\u001b[39m \u001b[43mconn\u001b[49m\u001b[38;5;241;43m.\u001b[39;49m\u001b[43murlopen\u001b[49m\u001b[43m(\u001b[49m\n\u001b[0;32m    487\u001b[0m \u001b[43m        \u001b[49m\u001b[43mmethod\u001b[49m\u001b[38;5;241;43m=\u001b[39;49m\u001b[43mrequest\u001b[49m\u001b[38;5;241;43m.\u001b[39;49m\u001b[43mmethod\u001b[49m\u001b[43m,\u001b[49m\n\u001b[0;32m    488\u001b[0m \u001b[43m        \u001b[49m\u001b[43murl\u001b[49m\u001b[38;5;241;43m=\u001b[39;49m\u001b[43murl\u001b[49m\u001b[43m,\u001b[49m\n\u001b[0;32m    489\u001b[0m \u001b[43m        \u001b[49m\u001b[43mbody\u001b[49m\u001b[38;5;241;43m=\u001b[39;49m\u001b[43mrequest\u001b[49m\u001b[38;5;241;43m.\u001b[39;49m\u001b[43mbody\u001b[49m\u001b[43m,\u001b[49m\n\u001b[0;32m    490\u001b[0m \u001b[43m        \u001b[49m\u001b[43mheaders\u001b[49m\u001b[38;5;241;43m=\u001b[39;49m\u001b[43mrequest\u001b[49m\u001b[38;5;241;43m.\u001b[39;49m\u001b[43mheaders\u001b[49m\u001b[43m,\u001b[49m\n\u001b[0;32m    491\u001b[0m \u001b[43m        \u001b[49m\u001b[43mredirect\u001b[49m\u001b[38;5;241;43m=\u001b[39;49m\u001b[38;5;28;43;01mFalse\u001b[39;49;00m\u001b[43m,\u001b[49m\n\u001b[0;32m    492\u001b[0m \u001b[43m        \u001b[49m\u001b[43massert_same_host\u001b[49m\u001b[38;5;241;43m=\u001b[39;49m\u001b[38;5;28;43;01mFalse\u001b[39;49;00m\u001b[43m,\u001b[49m\n\u001b[0;32m    493\u001b[0m \u001b[43m        \u001b[49m\u001b[43mpreload_content\u001b[49m\u001b[38;5;241;43m=\u001b[39;49m\u001b[38;5;28;43;01mFalse\u001b[39;49;00m\u001b[43m,\u001b[49m\n\u001b[0;32m    494\u001b[0m \u001b[43m        \u001b[49m\u001b[43mdecode_content\u001b[49m\u001b[38;5;241;43m=\u001b[39;49m\u001b[38;5;28;43;01mFalse\u001b[39;49;00m\u001b[43m,\u001b[49m\n\u001b[0;32m    495\u001b[0m \u001b[43m        \u001b[49m\u001b[43mretries\u001b[49m\u001b[38;5;241;43m=\u001b[39;49m\u001b[38;5;28;43mself\u001b[39;49m\u001b[38;5;241;43m.\u001b[39;49m\u001b[43mmax_retries\u001b[49m\u001b[43m,\u001b[49m\n\u001b[0;32m    496\u001b[0m \u001b[43m        \u001b[49m\u001b[43mtimeout\u001b[49m\u001b[38;5;241;43m=\u001b[39;49m\u001b[43mtimeout\u001b[49m\u001b[43m,\u001b[49m\n\u001b[0;32m    497\u001b[0m \u001b[43m        \u001b[49m\u001b[43mchunked\u001b[49m\u001b[38;5;241;43m=\u001b[39;49m\u001b[43mchunked\u001b[49m\u001b[43m,\u001b[49m\n\u001b[0;32m    498\u001b[0m \u001b[43m    \u001b[49m\u001b[43m)\u001b[49m\n\u001b[0;32m    500\u001b[0m \u001b[38;5;28;01mexcept\u001b[39;00m (ProtocolError, \u001b[38;5;167;01mOSError\u001b[39;00m) \u001b[38;5;28;01mas\u001b[39;00m err:\n",
      "File \u001b[1;32md:\\code\\.openscholar.venv\\Lib\\site-packages\\urllib3\\connectionpool.py:799\u001b[0m, in \u001b[0;36mHTTPConnectionPool.urlopen\u001b[1;34m(self, method, url, body, headers, retries, redirect, assert_same_host, timeout, pool_timeout, release_conn, chunked, body_pos, **response_kw)\u001b[0m\n\u001b[0;32m    797\u001b[0m     e \u001b[38;5;241m=\u001b[39m ProtocolError(\u001b[38;5;124m\"\u001b[39m\u001b[38;5;124mConnection aborted.\u001b[39m\u001b[38;5;124m\"\u001b[39m, e)\n\u001b[1;32m--> 799\u001b[0m retries \u001b[38;5;241m=\u001b[39m \u001b[43mretries\u001b[49m\u001b[38;5;241;43m.\u001b[39;49m\u001b[43mincrement\u001b[49m\u001b[43m(\u001b[49m\n\u001b[0;32m    800\u001b[0m \u001b[43m    \u001b[49m\u001b[43mmethod\u001b[49m\u001b[43m,\u001b[49m\u001b[43m \u001b[49m\u001b[43murl\u001b[49m\u001b[43m,\u001b[49m\u001b[43m \u001b[49m\u001b[43merror\u001b[49m\u001b[38;5;241;43m=\u001b[39;49m\u001b[43me\u001b[49m\u001b[43m,\u001b[49m\u001b[43m \u001b[49m\u001b[43m_pool\u001b[49m\u001b[38;5;241;43m=\u001b[39;49m\u001b[38;5;28;43mself\u001b[39;49m\u001b[43m,\u001b[49m\u001b[43m \u001b[49m\u001b[43m_stacktrace\u001b[49m\u001b[38;5;241;43m=\u001b[39;49m\u001b[43msys\u001b[49m\u001b[38;5;241;43m.\u001b[39;49m\u001b[43mexc_info\u001b[49m\u001b[43m(\u001b[49m\u001b[43m)\u001b[49m\u001b[43m[\u001b[49m\u001b[38;5;241;43m2\u001b[39;49m\u001b[43m]\u001b[49m\n\u001b[0;32m    801\u001b[0m \u001b[43m\u001b[49m\u001b[43m)\u001b[49m\n\u001b[0;32m    802\u001b[0m retries\u001b[38;5;241m.\u001b[39msleep()\n",
      "File \u001b[1;32md:\\code\\.openscholar.venv\\Lib\\site-packages\\urllib3\\util\\retry.py:592\u001b[0m, in \u001b[0;36mRetry.increment\u001b[1;34m(self, method, url, response, error, _pool, _stacktrace)\u001b[0m\n\u001b[0;32m    591\u001b[0m \u001b[38;5;28;01mif\u001b[39;00m new_retry\u001b[38;5;241m.\u001b[39mis_exhausted():\n\u001b[1;32m--> 592\u001b[0m     \u001b[38;5;28;01mraise\u001b[39;00m MaxRetryError(_pool, url, error \u001b[38;5;129;01mor\u001b[39;00m ResponseError(cause))\n\u001b[0;32m    594\u001b[0m log\u001b[38;5;241m.\u001b[39mdebug(\u001b[38;5;124m\"\u001b[39m\u001b[38;5;124mIncremented Retry for (url=\u001b[39m\u001b[38;5;124m'\u001b[39m\u001b[38;5;132;01m%s\u001b[39;00m\u001b[38;5;124m'\u001b[39m\u001b[38;5;124m): \u001b[39m\u001b[38;5;132;01m%r\u001b[39;00m\u001b[38;5;124m\"\u001b[39m, url, new_retry)\n",
      "\u001b[1;31mMaxRetryError\u001b[0m: HTTPSConnectionPool(host='api.semanticscholar.org', port=443): Max retries exceeded with url: /graph/v1/paper/search?query=llava&offset=0&limit=20&fields=corpusId%2Curl%2Ctitle%2Cvenue%2CpublicationVenue%2Cyear%2Cauthors%2CexternalIds%2Cabstract%2CreferenceCount%2CcitationCount%2CinfluentialCitationCount%2CisOpenAccess%2CopenAccessPdf%2CfieldsOfStudy%2Cs2FieldsOfStudy%2CpublicationTypes%2CpublicationDate%2Cjournal%2CcitationStyles%2Ctldr&publicationTypes=Review%2CJournalArticle&minCitationCount=5 (Caused by ConnectTimeoutError(<urllib3.connection.HTTPSConnection object at 0x000001817ED359A0>, 'Connection to api.semanticscholar.org timed out. (connect timeout=None)'))",
      "\nDuring handling of the above exception, another exception occurred:\n",
      "\u001b[1;31mConnectTimeout\u001b[0m                            Traceback (most recent call last)",
      "Cell \u001b[1;32mIn[1], line 40\u001b[0m, in \u001b[0;36msearch_papers\u001b[1;34m(b)\u001b[0m\n\u001b[0;32m     38\u001b[0m \u001b[38;5;28;01mdef\u001b[39;00m \u001b[38;5;21msearch_papers\u001b[39m(b):\n\u001b[0;32m     39\u001b[0m     query \u001b[38;5;241m=\u001b[39m query_input\u001b[38;5;241m.\u001b[39mvalue\n\u001b[1;32m---> 40\u001b[0m     results \u001b[38;5;241m=\u001b[39m \u001b[43msemantic_scholar_client\u001b[49m\u001b[38;5;241;43m.\u001b[39;49m\u001b[43msearch_papers_by_relevance\u001b[49m\u001b[43m(\u001b[49m\u001b[43mquery\u001b[49m\u001b[43m)\u001b[49m\n\u001b[0;32m     42\u001b[0m     \u001b[38;5;66;03m# 提取结果数据\u001b[39;00m\n\u001b[0;32m     43\u001b[0m     data \u001b[38;5;241m=\u001b[39m results[\u001b[38;5;124m'\u001b[39m\u001b[38;5;124mdata\u001b[39m\u001b[38;5;124m'\u001b[39m]\n",
      "File \u001b[1;32mD:\\code\\open_science_agent\\open_science_agent\\api\\semantic_scholar_client.py:39\u001b[0m, in \u001b[0;36mSemanticScholarClient.search_papers_by_relevance\u001b[1;34m(self, query, offset, limit)\u001b[0m\n\u001b[0;32m     28\u001b[0m headers \u001b[38;5;241m=\u001b[39m {\u001b[38;5;124m\"\u001b[39m\u001b[38;5;124mAuthorization\u001b[39m\u001b[38;5;124m\"\u001b[39m: \u001b[38;5;124mf\u001b[39m\u001b[38;5;124m\"\u001b[39m\u001b[38;5;124mBearer \u001b[39m\u001b[38;5;132;01m{\u001b[39;00m\u001b[38;5;28mself\u001b[39m\u001b[38;5;241m.\u001b[39mapi_key\u001b[38;5;132;01m}\u001b[39;00m\u001b[38;5;124m\"\u001b[39m}\n\u001b[0;32m     29\u001b[0m params \u001b[38;5;241m=\u001b[39m {\n\u001b[0;32m     30\u001b[0m     \u001b[38;5;124m\"\u001b[39m\u001b[38;5;124mquery\u001b[39m\u001b[38;5;124m\"\u001b[39m: query,\n\u001b[0;32m     31\u001b[0m     \u001b[38;5;124m\"\u001b[39m\u001b[38;5;124moffset\u001b[39m\u001b[38;5;124m\"\u001b[39m: offset,\n\u001b[1;32m   (...)\u001b[0m\n\u001b[0;32m     37\u001b[0m     \u001b[38;5;124m\"\u001b[39m\u001b[38;5;124mminCitationCount\u001b[39m\u001b[38;5;124m\"\u001b[39m: \u001b[38;5;241m5\u001b[39m\n\u001b[0;32m     38\u001b[0m }\n\u001b[1;32m---> 39\u001b[0m response \u001b[38;5;241m=\u001b[39m \u001b[43mrequests\u001b[49m\u001b[38;5;241;43m.\u001b[39;49m\u001b[43mget\u001b[49m\u001b[43m(\u001b[49m\u001b[38;5;124;43mf\u001b[39;49m\u001b[38;5;124;43m\"\u001b[39;49m\u001b[38;5;132;43;01m{\u001b[39;49;00m\u001b[38;5;28;43mself\u001b[39;49m\u001b[38;5;241;43m.\u001b[39;49m\u001b[43mBASE_URL\u001b[49m\u001b[38;5;132;43;01m}\u001b[39;49;00m\u001b[38;5;124;43m/paper/search\u001b[39;49m\u001b[38;5;124;43m\"\u001b[39;49m\u001b[43m,\u001b[49m\u001b[43m \u001b[49m\u001b[43mheaders\u001b[49m\u001b[38;5;241;43m=\u001b[39;49m\u001b[43mheaders\u001b[49m\u001b[43m,\u001b[49m\u001b[43m \u001b[49m\u001b[43mparams\u001b[49m\u001b[38;5;241;43m=\u001b[39;49m\u001b[43mparams\u001b[49m\u001b[43m)\u001b[49m\n\u001b[0;32m     40\u001b[0m response\u001b[38;5;241m.\u001b[39mraise_for_status()  \u001b[38;5;66;03m# Raises an HTTPError if the request was unsuccessful\u001b[39;00m\n\u001b[0;32m     41\u001b[0m \u001b[38;5;28;01mreturn\u001b[39;00m response\u001b[38;5;241m.\u001b[39mjson()\n",
      "File \u001b[1;32md:\\code\\.openscholar.venv\\Lib\\site-packages\\requests\\api.py:73\u001b[0m, in \u001b[0;36mget\u001b[1;34m(url, params, **kwargs)\u001b[0m\n\u001b[0;32m     62\u001b[0m \u001b[38;5;28;01mdef\u001b[39;00m \u001b[38;5;21mget\u001b[39m(url, params\u001b[38;5;241m=\u001b[39m\u001b[38;5;28;01mNone\u001b[39;00m, \u001b[38;5;241m*\u001b[39m\u001b[38;5;241m*\u001b[39mkwargs):\n\u001b[0;32m     63\u001b[0m \u001b[38;5;250m    \u001b[39m\u001b[38;5;124mr\u001b[39m\u001b[38;5;124;03m\"\"\"Sends a GET request.\u001b[39;00m\n\u001b[0;32m     64\u001b[0m \n\u001b[0;32m     65\u001b[0m \u001b[38;5;124;03m    :param url: URL for the new :class:`Request` object.\u001b[39;00m\n\u001b[1;32m   (...)\u001b[0m\n\u001b[0;32m     70\u001b[0m \u001b[38;5;124;03m    :rtype: requests.Response\u001b[39;00m\n\u001b[0;32m     71\u001b[0m \u001b[38;5;124;03m    \"\"\"\u001b[39;00m\n\u001b[1;32m---> 73\u001b[0m     \u001b[38;5;28;01mreturn\u001b[39;00m \u001b[43mrequest\u001b[49m\u001b[43m(\u001b[49m\u001b[38;5;124;43m\"\u001b[39;49m\u001b[38;5;124;43mget\u001b[39;49m\u001b[38;5;124;43m\"\u001b[39;49m\u001b[43m,\u001b[49m\u001b[43m \u001b[49m\u001b[43murl\u001b[49m\u001b[43m,\u001b[49m\u001b[43m \u001b[49m\u001b[43mparams\u001b[49m\u001b[38;5;241;43m=\u001b[39;49m\u001b[43mparams\u001b[49m\u001b[43m,\u001b[49m\u001b[43m \u001b[49m\u001b[38;5;241;43m*\u001b[39;49m\u001b[38;5;241;43m*\u001b[39;49m\u001b[43mkwargs\u001b[49m\u001b[43m)\u001b[49m\n",
      "File \u001b[1;32md:\\code\\.openscholar.venv\\Lib\\site-packages\\requests\\api.py:59\u001b[0m, in \u001b[0;36mrequest\u001b[1;34m(method, url, **kwargs)\u001b[0m\n\u001b[0;32m     55\u001b[0m \u001b[38;5;66;03m# By using the 'with' statement we are sure the session is closed, thus we\u001b[39;00m\n\u001b[0;32m     56\u001b[0m \u001b[38;5;66;03m# avoid leaving sockets open which can trigger a ResourceWarning in some\u001b[39;00m\n\u001b[0;32m     57\u001b[0m \u001b[38;5;66;03m# cases, and look like a memory leak in others.\u001b[39;00m\n\u001b[0;32m     58\u001b[0m \u001b[38;5;28;01mwith\u001b[39;00m sessions\u001b[38;5;241m.\u001b[39mSession() \u001b[38;5;28;01mas\u001b[39;00m session:\n\u001b[1;32m---> 59\u001b[0m     \u001b[38;5;28;01mreturn\u001b[39;00m \u001b[43msession\u001b[49m\u001b[38;5;241;43m.\u001b[39;49m\u001b[43mrequest\u001b[49m\u001b[43m(\u001b[49m\u001b[43mmethod\u001b[49m\u001b[38;5;241;43m=\u001b[39;49m\u001b[43mmethod\u001b[49m\u001b[43m,\u001b[49m\u001b[43m \u001b[49m\u001b[43murl\u001b[49m\u001b[38;5;241;43m=\u001b[39;49m\u001b[43murl\u001b[49m\u001b[43m,\u001b[49m\u001b[43m \u001b[49m\u001b[38;5;241;43m*\u001b[39;49m\u001b[38;5;241;43m*\u001b[39;49m\u001b[43mkwargs\u001b[49m\u001b[43m)\u001b[49m\n",
      "File \u001b[1;32md:\\code\\.openscholar.venv\\Lib\\site-packages\\requests\\sessions.py:589\u001b[0m, in \u001b[0;36mSession.request\u001b[1;34m(self, method, url, params, data, headers, cookies, files, auth, timeout, allow_redirects, proxies, hooks, stream, verify, cert, json)\u001b[0m\n\u001b[0;32m    584\u001b[0m send_kwargs \u001b[38;5;241m=\u001b[39m {\n\u001b[0;32m    585\u001b[0m     \u001b[38;5;124m\"\u001b[39m\u001b[38;5;124mtimeout\u001b[39m\u001b[38;5;124m\"\u001b[39m: timeout,\n\u001b[0;32m    586\u001b[0m     \u001b[38;5;124m\"\u001b[39m\u001b[38;5;124mallow_redirects\u001b[39m\u001b[38;5;124m\"\u001b[39m: allow_redirects,\n\u001b[0;32m    587\u001b[0m }\n\u001b[0;32m    588\u001b[0m send_kwargs\u001b[38;5;241m.\u001b[39mupdate(settings)\n\u001b[1;32m--> 589\u001b[0m resp \u001b[38;5;241m=\u001b[39m \u001b[38;5;28;43mself\u001b[39;49m\u001b[38;5;241;43m.\u001b[39;49m\u001b[43msend\u001b[49m\u001b[43m(\u001b[49m\u001b[43mprep\u001b[49m\u001b[43m,\u001b[49m\u001b[43m \u001b[49m\u001b[38;5;241;43m*\u001b[39;49m\u001b[38;5;241;43m*\u001b[39;49m\u001b[43msend_kwargs\u001b[49m\u001b[43m)\u001b[49m\n\u001b[0;32m    591\u001b[0m \u001b[38;5;28;01mreturn\u001b[39;00m resp\n",
      "File \u001b[1;32md:\\code\\.openscholar.venv\\Lib\\site-packages\\requests\\sessions.py:703\u001b[0m, in \u001b[0;36mSession.send\u001b[1;34m(self, request, **kwargs)\u001b[0m\n\u001b[0;32m    700\u001b[0m start \u001b[38;5;241m=\u001b[39m preferred_clock()\n\u001b[0;32m    702\u001b[0m \u001b[38;5;66;03m# Send the request\u001b[39;00m\n\u001b[1;32m--> 703\u001b[0m r \u001b[38;5;241m=\u001b[39m \u001b[43madapter\u001b[49m\u001b[38;5;241;43m.\u001b[39;49m\u001b[43msend\u001b[49m\u001b[43m(\u001b[49m\u001b[43mrequest\u001b[49m\u001b[43m,\u001b[49m\u001b[43m \u001b[49m\u001b[38;5;241;43m*\u001b[39;49m\u001b[38;5;241;43m*\u001b[39;49m\u001b[43mkwargs\u001b[49m\u001b[43m)\u001b[49m\n\u001b[0;32m    705\u001b[0m \u001b[38;5;66;03m# Total elapsed time of the request (approximately)\u001b[39;00m\n\u001b[0;32m    706\u001b[0m elapsed \u001b[38;5;241m=\u001b[39m preferred_clock() \u001b[38;5;241m-\u001b[39m start\n",
      "File \u001b[1;32md:\\code\\.openscholar.venv\\Lib\\site-packages\\requests\\adapters.py:507\u001b[0m, in \u001b[0;36mHTTPAdapter.send\u001b[1;34m(self, request, stream, timeout, verify, cert, proxies)\u001b[0m\n\u001b[0;32m    504\u001b[0m \u001b[38;5;28;01mif\u001b[39;00m \u001b[38;5;28misinstance\u001b[39m(e\u001b[38;5;241m.\u001b[39mreason, ConnectTimeoutError):\n\u001b[0;32m    505\u001b[0m     \u001b[38;5;66;03m# TODO: Remove this in 3.0.0: see #2811\u001b[39;00m\n\u001b[0;32m    506\u001b[0m     \u001b[38;5;28;01mif\u001b[39;00m \u001b[38;5;129;01mnot\u001b[39;00m \u001b[38;5;28misinstance\u001b[39m(e\u001b[38;5;241m.\u001b[39mreason, NewConnectionError):\n\u001b[1;32m--> 507\u001b[0m         \u001b[38;5;28;01mraise\u001b[39;00m ConnectTimeout(e, request\u001b[38;5;241m=\u001b[39mrequest)\n\u001b[0;32m    509\u001b[0m \u001b[38;5;28;01mif\u001b[39;00m \u001b[38;5;28misinstance\u001b[39m(e\u001b[38;5;241m.\u001b[39mreason, ResponseError):\n\u001b[0;32m    510\u001b[0m     \u001b[38;5;28;01mraise\u001b[39;00m RetryError(e, request\u001b[38;5;241m=\u001b[39mrequest)\n",
      "\u001b[1;31mConnectTimeout\u001b[0m: HTTPSConnectionPool(host='api.semanticscholar.org', port=443): Max retries exceeded with url: /graph/v1/paper/search?query=llava&offset=0&limit=20&fields=corpusId%2Curl%2Ctitle%2Cvenue%2CpublicationVenue%2Cyear%2Cauthors%2CexternalIds%2Cabstract%2CreferenceCount%2CcitationCount%2CinfluentialCitationCount%2CisOpenAccess%2CopenAccessPdf%2CfieldsOfStudy%2Cs2FieldsOfStudy%2CpublicationTypes%2CpublicationDate%2Cjournal%2CcitationStyles%2Ctldr&publicationTypes=Review%2CJournalArticle&minCitationCount=5 (Caused by ConnectTimeoutError(<urllib3.connection.HTTPSConnection object at 0x000001817ED359A0>, 'Connection to api.semanticscholar.org timed out. (connect timeout=None)'))"
     ]
    },
    {
     "ename": "",
     "evalue": "",
     "output_type": "error",
     "traceback": [
      "\u001b[1;31mThe Kernel crashed while executing code in the current cell or a previous cell. \n",
      "\u001b[1;31mPlease review the code in the cell(s) to identify a possible cause of the failure. \n",
      "\u001b[1;31mClick <a href='https://aka.ms/vscodeJupyterKernelCrash'>here</a> for more info. \n",
      "\u001b[1;31mView Jupyter <a href='command:jupyter.viewOutput'>log</a> for further details."
     ]
    }
   ],
   "source": [
    "import os\n",
    "import ipywidgets as widgets\n",
    "from IPython.display import display, clear_output\n",
    "import pandas as pd\n",
    "\n",
    "# 导入SemanticScholarClient（假设它在open_science_agent包中）\n",
    "from open_science_agent.api.semantic_scholar_client import SemanticScholarClient\n",
    "\n",
    "semantic_scholar_client = SemanticScholarClient()\n",
    "\n",
    "# 定义查询输入框和按钮\n",
    "query_input = widgets.Text(\n",
    "    value='machine learning in atmospheric science',\n",
    "    placeholder='Enter search query',\n",
    "    description='Query:',\n",
    "    disabled=False\n",
    ")\n",
    "\n",
    "search_button = widgets.Button(\n",
    "    description='Search',\n",
    "    disabled=False,\n",
    "    button_style='', # 'success', 'info', 'warning', 'danger' or ''\n",
    "    tooltip='Search for papers',\n",
    "    icon='search'\n",
    ")\n",
    "\n",
    "output = widgets.Output()\n",
    "\n",
    "# 定义搜索函数\n",
    "def search_papers(b):\n",
    "    query = query_input.value\n",
    "    results = semantic_scholar_client.search_papers_by_relevance(query)\n",
    "    \n",
    "    # 提取结果数据\n",
    "    data = results['data']\n",
    "    papers = []\n",
    "    for paper in data:\n",
    "        papers.append({\n",
    "            'Title': paper['title'],\n",
    "            'Authors': ', '.join([author['name'] for author in paper['authors']]),\n",
    "            'Year': paper['year'],\n",
    "            'Venue': paper['venue'],\n",
    "            'Abstract': paper.get('abstract', 'No abstract available'),\n",
    "            'Citations': paper['citationCount'],\n",
    "            'URL': paper['url']\n",
    "        })\n",
    "    \n",
    "    # 转换为DataFrame\n",
    "    df = pd.DataFrame(papers)\n",
    "    \n",
    "    # 在输出框中显示结果\n",
    "    with output:\n",
    "        clear_output(wait=True)\n",
    "        display(df)\n",
    "\n",
    "# 绑定搜索按钮点击事件\n",
    "search_button.on_click(search_papers)\n",
    "\n",
    "# 显示查询输入框和按钮\n",
    "display(query_input, search_button, output)"
   ]
  },
  {
   "cell_type": "code",
   "execution_count": 1,
   "metadata": {},
   "outputs": [
    {
     "data": {
      "application/vnd.jupyter.widget-view+json": {
       "model_id": "78f2ffa54dec4e5498688368797c401d",
       "version_major": 2,
       "version_minor": 0
      },
      "text/plain": [
       "Text(value='machine learning in atmospheric science', description='查询:', placeholder='请输入查询关键字')"
      ]
     },
     "metadata": {},
     "output_type": "display_data"
    },
    {
     "data": {
      "application/vnd.jupyter.widget-view+json": {
       "model_id": "9521ac5441ef47dfaebec36aabebc6ba",
       "version_major": 2,
       "version_minor": 0
      },
      "text/plain": [
       "Button(description='搜索', icon='search', style=ButtonStyle(), tooltip='搜索学术论文')"
      ]
     },
     "metadata": {},
     "output_type": "display_data"
    },
    {
     "data": {
      "application/vnd.jupyter.widget-view+json": {
       "model_id": "c2870f4e4cbd415d936f3eb62fdbab40",
       "version_major": 2,
       "version_minor": 0
      },
      "text/plain": [
       "Output()"
      ]
     },
     "metadata": {},
     "output_type": "display_data"
    },
    {
     "data": {
      "application/vnd.jupyter.widget-view+json": {
       "model_id": "ed035ea8ba3c472dab02a2937f813249",
       "version_major": 2,
       "version_minor": 0
      },
      "text/plain": [
       "Output()"
      ]
     },
     "metadata": {},
     "output_type": "display_data"
    }
   ],
   "source": [
    "import os\n",
    "import ipywidgets as widgets\n",
    "from IPython.display import display, clear_output\n",
    "import pandas as pd\n",
    "\n",
    "# 导入SemanticScholarClient（假设它在open_science_agent包中）\n",
    "from open_science_agent.api.semantic_scholar_client import SemanticScholarClient\n",
    "\n",
    "# 初始化SemanticScholarClient\n",
    "semantic_scholar_client = SemanticScholarClient()\n",
    "\n",
    "# 定义查询输入框和按钮\n",
    "query_input = widgets.Text(\n",
    "    value='machine learning in atmospheric science',\n",
    "    placeholder='请输入查询关键字',\n",
    "    description='查询:',\n",
    "    disabled=False\n",
    ")\n",
    "\n",
    "search_button = widgets.Button(\n",
    "    description='搜索',\n",
    "    disabled=False,\n",
    "    button_style='', # 'success', 'info', 'warning', 'danger' or ''\n",
    "    tooltip='搜索学术论文',\n",
    "    icon='search'\n",
    ")\n",
    "\n",
    "output = widgets.Output()\n",
    "details_output = widgets.Output()\n",
    "\n",
    "# 定义显示详细信息的函数\n",
    "def show_paper_details(selected_paper):\n",
    "    with details_output:\n",
    "        clear_output(wait=True)\n",
    "        display(pd.DataFrame([selected_paper]))\n",
    "\n",
    "# 定义搜索函数\n",
    "def search_papers(b):\n",
    "    query = query_input.value\n",
    "    results = semantic_scholar_client.search_papers_by_relevance(query)\n",
    "    \n",
    "    # 提取结果数据\n",
    "    data = results['data']\n",
    "    papers = []\n",
    "    for paper in data:\n",
    "        papers.append({\n",
    "            '标题': paper['title'],\n",
    "            '作者': ', '.join([author['name'] for author in paper['authors']]),\n",
    "            '年份': paper['year'],\n",
    "            '期刊': paper['venue'],\n",
    "            '摘要': paper.get('abstract', '没有摘要'),\n",
    "            '引用数': paper['citationCount'],\n",
    "            '链接': paper['url'],\n",
    "            '详细信息': paper  # 添加整个论文数据，以便后续显示详细信息\n",
    "        })\n",
    "    \n",
    "    # 转换为DataFrame\n",
    "    df = pd.DataFrame(papers)\n",
    "    \n",
    "    # 创建交互表格\n",
    "    table = widgets.Output()\n",
    "    with table:\n",
    "        clear_output(wait=True)\n",
    "        display(df)\n",
    "    \n",
    "    # 创建选择器\n",
    "    dropdown = widgets.Dropdown(\n",
    "        options=[(paper['标题'], i) for i, paper in enumerate(papers)],\n",
    "        description='选择论文:',\n",
    "        disabled=False\n",
    "    )\n",
    "    \n",
    "    # 定义选择事件处理函数\n",
    "    def on_select(change):\n",
    "        selected_paper = papers[change['new']]['详细信息']\n",
    "        show_paper_details(selected_paper)\n",
    "    \n",
    "    dropdown.observe(on_select, names='value')\n",
    "    \n",
    "    # 显示查询结果和选择器\n",
    "    with output:\n",
    "        clear_output(wait=True)\n",
    "        display(table, dropdown)\n",
    "\n",
    "# 绑定搜索按钮点击事件\n",
    "search_button.on_click(search_papers)\n",
    "\n",
    "# 显示查询输入框和按钮\n",
    "display(query_input, search_button, output, details_output)"
   ]
  },
  {
   "cell_type": "code",
   "execution_count": 4,
   "metadata": {},
   "outputs": [
    {
     "name": "stdout",
     "output_type": "stream",
     "text": [
      "Images found:\n",
      "\n",
      "Tables found:\n"
     ]
    }
   ],
   "source": [
    "import requests  \n",
    "from bs4 import BeautifulSoup  \n",
    "from urllib.parse import urljoin  \n",
    "\n",
    "def extract_images_and_tables(url):  \n",
    "    # 发送GET请求获取网页内容  \n",
    "    response = requests.get(url)  \n",
    "    response.raise_for_status()  # 检查请求是否成功  \n",
    "\n",
    "    # 使用BeautifulSoup解析网页内容  \n",
    "    soup = BeautifulSoup(response.content, 'html.parser')  \n",
    "\n",
    "    # 提取所有图片的URL  \n",
    "    images = soup.find_all('img')  \n",
    "    image_urls = [urljoin(url, img['src']) for img in images if img.get('src')]  \n",
    "\n",
    "    # 提取所有表格  \n",
    "    tables = soup.find_all('table')  \n",
    "    table_htmls = [str(table) for table in tables]  \n",
    "\n",
    "    return image_urls, table_htmls  \n",
    "\n",
    "# 示例用法  \n",
    "url = 'https://www.semanticscholar.org/paper/a9eab711118774d1b897f70cbb0f420da144fe85'  # 替换为你要处理的URL  \n",
    "images, tables = extract_images_and_tables(url)  \n",
    "\n",
    "print(\"Images found:\")  \n",
    "for img in images:  \n",
    "    print(img)  \n",
    "\n",
    "print(\"\\nTables found:\")  \n",
    "for table in tables:  \n",
    "    print(table)  "
   ]
  },
  {
   "cell_type": "code",
   "execution_count": 5,
   "metadata": {},
   "outputs": [],
   "source": [
    "import requests\n",
    "from bs4 import BeautifulSoup\n",
    "import os\n",
    "\n",
    "def fetch_figures_and_tables(url):\n",
    "    # Fetch the webpage content\n",
    "    response = requests.get(url)\n",
    "    response.raise_for_status()  # Ensure the request was successful\n",
    "\n",
    "    # Parse the webpage content with BeautifulSoup\n",
    "    soup = BeautifulSoup(response.text, 'html.parser')\n",
    "\n",
    "    # Directory to save images\n",
    "    if not os.path.exists('images'):\n",
    "        os.makedirs('images')\n",
    "\n",
    "    # Extract figures and tables along with captions\n",
    "    figures_tables = []\n",
    "    \n",
    "    # Find all image objects that are associated with figures or tables\n",
    "    for img_tag in soup.find_all('img'):\n",
    "        # Check if it is a figure or table based on the caption or alt text\n",
    "        caption = img_tag.get('alt', 'No caption')\n",
    "        src = img_tag['src']\n",
    "\n",
    "        # Handle relative URLs by joining with the base URL\n",
    "        if not src.startswith('http'):\n",
    "            src = os.path.join(os.path.dirname(url), src)\n",
    "\n",
    "        # Download the image\n",
    "        img_data = requests.get(src).content\n",
    "        img_name = os.path.join('images', os.path.basename(src))\n",
    "        with open(img_name, 'wb') as handler:\n",
    "            handler.write(img_data)\n",
    "\n",
    "        figures_tables.append({'caption': caption, 'image': img_name})\n",
    "\n",
    "    return figures_tables\n",
    "\n",
    "# Example usage:\n",
    "url = 'https://www.semanticscholar.org/paper/A-Comprehensive-Review-of-AI-in-Healthcare%3A-Neural-Sathe-Deodhe/a9eab711118774d1b897f70cbb0f420da144fe85'\n",
    "figures_and_tables = fetch_figures_and_tables(url)\n",
    "\n",
    "# Print out the results\n",
    "for item in figures_and_tables:\n",
    "    print(f\"Caption: {item['caption']}\")\n",
    "    print(f\"Image File: {item['image']}\")"
   ]
  }
 ],
 "metadata": {
  "kernelspec": {
   "display_name": ".openscholar.venv",
   "language": "python",
   "name": "python3"
  },
  "language_info": {
   "codemirror_mode": {
    "name": "ipython",
    "version": 3
   },
   "file_extension": ".py",
   "mimetype": "text/x-python",
   "name": "python",
   "nbconvert_exporter": "python",
   "pygments_lexer": "ipython3",
   "version": "3.12.5"
  }
 },
 "nbformat": 4,
 "nbformat_minor": 2
}
